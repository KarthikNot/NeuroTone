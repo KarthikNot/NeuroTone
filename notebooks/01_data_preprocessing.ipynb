{
 "cells": [
  {
   "cell_type": "code",
   "execution_count": 1,
   "id": "876f226f",
   "metadata": {},
   "outputs": [
    {
     "name": "stderr",
     "output_type": "stream",
     "text": [
      "[nltk_data] Downloading package punkt to\n",
      "[nltk_data]     C:\\Users\\anuma\\AppData\\Roaming\\nltk_data...\n",
      "[nltk_data]   Package punkt is already up-to-date!\n",
      "[nltk_data] Downloading package punkt_tab to\n",
      "[nltk_data]     C:\\Users\\anuma\\AppData\\Roaming\\nltk_data...\n",
      "[nltk_data]   Package punkt_tab is already up-to-date!\n",
      "[nltk_data] Downloading package stopwords to\n",
      "[nltk_data]     C:\\Users\\anuma\\AppData\\Roaming\\nltk_data...\n",
      "[nltk_data]   Package stopwords is already up-to-date!\n"
     ]
    },
    {
     "data": {
      "text/plain": [
       "True"
      ]
     },
     "execution_count": 1,
     "metadata": {},
     "output_type": "execute_result"
    }
   ],
   "source": [
    "import warnings\n",
    "warnings.filterwarnings('ignore')\n",
    "\n",
    "import pandas as pd\n",
    "import nltk, re\n",
    "import matplotlib.pyplot as plt\n",
    "import seaborn as sns\n",
    "\n",
    "from nltk.corpus import stopwords\n",
    "from nltk.tokenize import word_tokenize\n",
    "\n",
    "nltk.download('punkt')\n",
    "nltk.download('punkt_tab')\n",
    "nltk.download('stopwords')"
   ]
  },
  {
   "cell_type": "code",
   "execution_count": 2,
   "id": "5055ec06",
   "metadata": {},
   "outputs": [
    {
     "name": "stdout",
     "output_type": "stream",
     "text": [
      "(422746, 2)\n"
     ]
    }
   ],
   "source": [
    "data = pd.read_csv('../data/raw/data.csv')\n",
    "\n",
    "print(data.shape)"
   ]
  },
  {
   "cell_type": "code",
   "execution_count": 3,
   "id": "0dcee27f",
   "metadata": {},
   "outputs": [
    {
     "name": "stdout",
     "output_type": "stream",
     "text": [
      "<class 'pandas.core.frame.DataFrame'>\n",
      "RangeIndex: 422746 entries, 0 to 422745\n",
      "Data columns (total 2 columns):\n",
      " #   Column    Non-Null Count   Dtype \n",
      "---  ------    --------------   ----- \n",
      " 0   sentence  422746 non-null  object\n",
      " 1   emotion   422746 non-null  object\n",
      "dtypes: object(2)\n",
      "memory usage: 6.5+ MB\n"
     ]
    }
   ],
   "source": [
    "data.info()"
   ]
  },
  {
   "cell_type": "code",
   "execution_count": 4,
   "id": "303564f4",
   "metadata": {},
   "outputs": [
    {
     "data": {
      "text/html": [
       "<div>\n",
       "<style scoped>\n",
       "    .dataframe tbody tr th:only-of-type {\n",
       "        vertical-align: middle;\n",
       "    }\n",
       "\n",
       "    .dataframe tbody tr th {\n",
       "        vertical-align: top;\n",
       "    }\n",
       "\n",
       "    .dataframe thead th {\n",
       "        text-align: right;\n",
       "    }\n",
       "</style>\n",
       "<table border=\"1\" class=\"dataframe\">\n",
       "  <thead>\n",
       "    <tr style=\"text-align: right;\">\n",
       "      <th></th>\n",
       "      <th>sentence</th>\n",
       "      <th>emotion</th>\n",
       "    </tr>\n",
       "  </thead>\n",
       "  <tbody>\n",
       "    <tr>\n",
       "      <th>0</th>\n",
       "      <td>i just feel really helpless and heavy hearted</td>\n",
       "      <td>fear</td>\n",
       "    </tr>\n",
       "    <tr>\n",
       "      <th>1</th>\n",
       "      <td>ive enjoyed being able to slouch about relax a...</td>\n",
       "      <td>sad</td>\n",
       "    </tr>\n",
       "    <tr>\n",
       "      <th>2</th>\n",
       "      <td>i gave up my internship with the dmrg and am f...</td>\n",
       "      <td>fear</td>\n",
       "    </tr>\n",
       "    <tr>\n",
       "      <th>3</th>\n",
       "      <td>i dont know i feel so lost</td>\n",
       "      <td>sad</td>\n",
       "    </tr>\n",
       "    <tr>\n",
       "      <th>4</th>\n",
       "      <td>i am a kindergarten teacher and i am thoroughl...</td>\n",
       "      <td>fear</td>\n",
       "    </tr>\n",
       "  </tbody>\n",
       "</table>\n",
       "</div>"
      ],
      "text/plain": [
       "                                            sentence emotion\n",
       "0      i just feel really helpless and heavy hearted    fear\n",
       "1  ive enjoyed being able to slouch about relax a...     sad\n",
       "2  i gave up my internship with the dmrg and am f...    fear\n",
       "3                         i dont know i feel so lost     sad\n",
       "4  i am a kindergarten teacher and i am thoroughl...    fear"
      ]
     },
     "execution_count": 4,
     "metadata": {},
     "output_type": "execute_result"
    }
   ],
   "source": [
    "data.head()"
   ]
  },
  {
   "cell_type": "code",
   "execution_count": 5,
   "id": "702398f4",
   "metadata": {},
   "outputs": [],
   "source": [
    "data['sentenceLengths'] = data['sentence'].apply(lambda x : len(x))"
   ]
  },
  {
   "cell_type": "code",
   "execution_count": 6,
   "id": "36aa073a",
   "metadata": {},
   "outputs": [],
   "source": [
    "texts = data['sentence']\n",
    "labels = data['emotion']"
   ]
  },
  {
   "cell_type": "code",
   "execution_count": 7,
   "id": "a7745575",
   "metadata": {},
   "outputs": [
    {
     "data": {
      "image/png": "[encoded data removed]",
      "text/plain": [
       "<Figure size 640x480 with 1 Axes>"
      ]
     },
     "metadata": {},
     "output_type": "display_data"
    }
   ],
   "source": [
    "labelCounts = labels.value_counts()\n",
    "sns.barplot(x = labelCounts.index, y = labelCounts.values, palette='coolwarm')\n",
    "for i, count in enumerate(labelCounts.values):\n",
    "    plt.text(i, count + 0.5, str(count), ha='center', va='bottom')\n",
    "plt.xlabel('Labels')\n",
    "plt.ylabel('Counts')\n",
    "plt.title('Label Distribution')\n",
    "plt.show()"
   ]
  },
  {
   "cell_type": "code",
   "execution_count": 8,
   "id": "9a3bc4fd",
   "metadata": {},
   "outputs": [
    {
     "data": {
      "image/png": "[encoded data removed]",
      "text/plain": [
       "<Figure size 640x480 with 1 Axes>"
      ]
     },
     "metadata": {},
     "output_type": "display_data"
    }
   ],
   "source": [
    "sns.histplot(\n",
    "    data=data, \n",
    "    x='sentenceLengths', \n",
    "    hue='emotion', \n",
    "    alpha=0.5, \n",
    "    bins=50,\n",
    "    multiple='stack'  \n",
    ")\n",
    "\n",
    "plt.xlabel('Sentence Length')\n",
    "plt.ylabel('Count')\n",
    "plt.title('Sentence Length Distribution by Emotion')\n",
    "plt.show()"
   ]
  },
  {
   "cell_type": "code",
   "execution_count": 9,
   "id": "223d9192",
   "metadata": {},
   "outputs": [
    {
     "data": {
      "text/plain": [
       "0          just feel really helpless and heavy hearted\n",
       "1    ve enjoyed being able to slouch about relax an...\n",
       "2    gave up my internship with the dmrg and am fee...\n",
       "3                             dont know i feel so lost\n",
       "4    am a kindergarten teacher and i am thoroughly ...\n",
       "Name: sentence, dtype: object"
      ]
     },
     "execution_count": 9,
     "metadata": {},
     "output_type": "execute_result"
    }
   ],
   "source": [
    "def clean_text(text):\n",
    "    text = text.lower()\n",
    "    text = re.sub(r'^[a-zA-Z0-9]', '', text).strip()       # remove extra spaces\n",
    "    return text\n",
    "\n",
    "texts = texts.apply(clean_text)\n",
    "texts[:5]"
   ]
  },
  {
   "cell_type": "code",
   "execution_count": 10,
   "id": "cf03727c",
   "metadata": {},
   "outputs": [],
   "source": [
    "stop_words = set(stopwords.words('english'))\n",
    "\n",
    "def tokenize(text):\n",
    "    tokens = word_tokenize(text)\n",
    "    return [word for word in tokens if word not in stop_words]\n",
    "\n",
    "tokenized_texts = texts.apply(tokenize)"
   ]
  },
  {
   "cell_type": "code",
   "execution_count": 22,
   "id": "837ac539",
   "metadata": {},
   "outputs": [
    {
     "data": {
      "text/plain": [
       "0             [feel, really, helpless, heavy, hearted]\n",
       "1    [enjoyed, able, slouch, relax, unwind, frankly...\n",
       "2        [gave, internship, dmrg, feeling, distraught]\n",
       "3                             [dont, know, feel, lost]\n",
       "4    [kindergarten, teacher, thoroughly, weary, job...\n",
       "5               [beginning, feel, quite, disheartened]\n",
       "6    [would, think, whomever, would, lucky, enough,...\n",
       "7    [fear, ever, feel, delicious, excitement, chri...\n",
       "8            [forever, taking, time, lie, feel, weird]\n",
       "9    [still, lose, weight, without, feeling, deprived]\n",
       "Name: sentence, dtype: object"
      ]
     },
     "execution_count": 22,
     "metadata": {},
     "output_type": "execute_result"
    }
   ],
   "source": [
    "tokenized_texts[:10]"
   ]
  },
  {
   "cell_type": "code",
   "execution_count": 16,
   "id": "9cce9ed4",
   "metadata": {},
   "outputs": [],
   "source": [
    "from gensim.models import Word2Vec\n",
    "\n",
    "SGmodel = Word2Vec(\n",
    "    sentences=tokenized_texts,\n",
    "    vector_size=512, # embedding dimension\n",
    "    window=10, # context window\n",
    "    min_count=5, # ignore rare words\n",
    "    sg=1, # 0 = CBOW, 1 = Skip-Gram\n",
    "    workers=-1,\n",
    "    epochs = 20\n",
    ")\n",
    "\n",
    "CBOWmodel = Word2Vec(\n",
    "    sentences=tokenized_texts,\n",
    "    vector_size=1024, # embedding dimension\n",
    "    window=10, # context window\n",
    "    min_count=5, # ignore rare words\n",
    "    sg=0, # 0 = CBOW, 1 = Skip-Gram\n",
    "    workers=4,\n",
    "    epochs = 20,\n",
    ")\n",
    "\n",
    "SGmodel.save('../models/sg_w2v.model')\n",
    "CBOWmodel.save('../models/cbow_w2v.model')"
   ]
  },
  {
   "cell_type": "code",
   "execution_count": 17,
   "id": "b450b16a",
   "metadata": {},
   "outputs": [
    {
     "data": {
      "text/plain": [
       "22824"
      ]
     },
     "execution_count": 17,
     "metadata": {},
     "output_type": "execute_result"
    }
   ],
   "source": [
    "vocab_size = len(SGmodel.wv)\n",
    "vocab_size"
   ]
  },
  {
   "cell_type": "markdown",
   "id": "fc35cc55",
   "metadata": {},
   "source": [
    "-- END --"
   ]
  }
 ],
 "metadata": {
  "kernelspec": {
   "display_name": "Python 3 (ipykernel)",
   "language": "python",
   "name": "python3"
  },
  "language_info": {
   "codemirror_mode": {
    "name": "ipython",
    "version": 3
   },
   "file_extension": ".py",
   "mimetype": "text/x-python",
   "name": "python",
   "nbconvert_exporter": "python",
   "pygments_lexer": "ipython3",
   "version": "3.10.10"
  }
 },
 "nbformat": 4,
 "nbformat_minor": 5
}
